{
 "cells": [
  {
   "cell_type": "code",
   "execution_count": 0,
   "metadata": {
    "colab": {
     "base_uri": "https://localhost:8080/",
     "height": 801
    },
    "colab_type": "code",
    "id": "TsnOCMHKZ1Ti",
    "outputId": "923146db-07ba-480d-8cc9-a4189540b095"
   },
   "outputs": [
    {
     "name": "stdout",
     "output_type": "stream",
     "text": [
      "Requirement already satisfied: gym in /usr/local/lib/python3.6/dist-packages (0.10.9)\n",
      "Requirement already satisfied: scipy in /usr/local/lib/python3.6/dist-packages (from gym) (1.1.0)\n",
      "Requirement already satisfied: numpy>=1.10.4 in /usr/local/lib/python3.6/dist-packages (from gym) (1.14.6)\n",
      "Requirement already satisfied: requests>=2.0 in /usr/local/lib/python3.6/dist-packages (from gym) (2.18.4)\n",
      "Requirement already satisfied: six in /usr/local/lib/python3.6/dist-packages (from gym) (1.11.0)\n",
      "Requirement already satisfied: pyglet>=1.2.0 in /usr/local/lib/python3.6/dist-packages (from gym) (1.3.2)\n",
      "Requirement already satisfied: idna<2.7,>=2.5 in /usr/local/lib/python3.6/dist-packages (from requests>=2.0->gym) (2.6)\n",
      "Requirement already satisfied: chardet<3.1.0,>=3.0.2 in /usr/local/lib/python3.6/dist-packages (from requests>=2.0->gym) (3.0.4)\n",
      "Requirement already satisfied: certifi>=2017.4.17 in /usr/local/lib/python3.6/dist-packages (from requests>=2.0->gym) (2018.11.29)\n",
      "Requirement already satisfied: urllib3<1.23,>=1.21.1 in /usr/local/lib/python3.6/dist-packages (from requests>=2.0->gym) (1.22)\n",
      "Requirement already satisfied: future in /usr/local/lib/python3.6/dist-packages (from pyglet>=1.2.0->gym) (0.16.0)\n",
      "Ign:1 https://developer.download.nvidia.com/compute/cuda/repos/ubuntu1710/x86_64  InRelease\n",
      "Ign:2 https://developer.download.nvidia.com/compute/machine-learning/repos/ubuntu1604/x86_64  InRelease\n",
      "Hit:3 https://developer.download.nvidia.com/compute/cuda/repos/ubuntu1710/x86_64  Release\n",
      "Hit:4 https://developer.download.nvidia.com/compute/machine-learning/repos/ubuntu1604/x86_64  Release\n",
      "Get:5 http://ppa.launchpad.net/graphics-drivers/ppa/ubuntu bionic InRelease [21.3 kB]\n",
      "Hit:6 http://archive.ubuntu.com/ubuntu bionic InRelease\n",
      "Get:7 http://security.ubuntu.com/ubuntu bionic-security InRelease [83.2 kB]\n",
      "Get:9 http://archive.ubuntu.com/ubuntu bionic-updates InRelease [88.7 kB]\n",
      "Get:11 http://security.ubuntu.com/ubuntu bionic-security/main amd64 Packages [300 kB]\n",
      "Get:12 http://archive.ubuntu.com/ubuntu bionic-backports InRelease [74.6 kB]\n",
      "Get:13 http://ppa.launchpad.net/graphics-drivers/ppa/ubuntu bionic/main amd64 Packages [27.2 kB]\n",
      "Get:14 http://archive.ubuntu.com/ubuntu bionic-updates/main amd64 Packages [618 kB]\n",
      "Get:15 http://security.ubuntu.com/ubuntu bionic-security/universe amd64 Packages [135 kB]\n",
      "Get:16 http://archive.ubuntu.com/ubuntu bionic-updates/universe amd64 Packages [900 kB]\n",
      "Fetched 2,248 kB in 3s (674 kB/s)\n",
      "Reading package lists... Done\n",
      "Reading package lists... Done\n",
      "Building dependency tree       \n",
      "Reading state information... Done\n",
      "xvfb is already the newest version (2:1.19.6-1ubuntu4.2).\n",
      "0 upgraded, 0 newly installed, 0 to remove and 12 not upgraded.\n",
      "Collecting pyvirtualdisplay\n",
      "  Downloading https://files.pythonhosted.org/packages/39/37/f285403a09cc261c56b6574baace1bdcf4b8c7428c8a7239cbba137bc0eb/PyVirtualDisplay-0.2.1.tar.gz\n",
      "Collecting EasyProcess (from pyvirtualdisplay)\n",
      "  Downloading https://files.pythonhosted.org/packages/45/3a/4eecc0c7995a13a64739bbedc0d3691fc574245b7e79cff81905aa0c2b38/EasyProcess-0.2.5.tar.gz\n",
      "Building wheels for collected packages: pyvirtualdisplay, EasyProcess\n",
      "  Running setup.py bdist_wheel for pyvirtualdisplay ... \u001b[?25l-\b \b\\\b \b|\b \b/\b \bdone\n",
      "\u001b[?25h  Stored in directory: /root/.cache/pip/wheels/d1/8c/16/1c64227974ae29c687e4cc30fd691d5c0fd40f54446dde99da\n",
      "  Running setup.py bdist_wheel for EasyProcess ... \u001b[?25l-\b \b\\\b \b|\b \b/\b \bdone\n",
      "\u001b[?25h  Stored in directory: /root/.cache/pip/wheels/41/22/19/af15ef6264c58b625a82641ed7483ad05e258fbd8925505227\n",
      "Successfully built pyvirtualdisplay EasyProcess\n",
      "Installing collected packages: EasyProcess, pyvirtualdisplay\n",
      "Successfully installed EasyProcess-0.2.5 pyvirtualdisplay-0.2.1\n"
     ]
    }
   ],
   "source": [
    "!pip install gym\n",
    "!apt-get update\n",
    "!apt-get -qq -y install xvfb freeglut3-dev ffmpeg> /dev/null\n",
    "!apt-get install xvfb\n",
    "!pip install pyvirtualdisplay\n",
    "!pip -q install pyglet\n",
    "!pip -q install pyopengl"
   ]
  },
  {
   "cell_type": "code",
   "execution_count": 0,
   "metadata": {
    "colab": {
     "base_uri": "https://localhost:8080/",
     "height": 367
    },
    "colab_type": "code",
    "id": "IlUAhN3yZ3Cj",
    "outputId": "09e0c910-c702-4406-d0cb-9806d5db5044"
   },
   "outputs": [
    {
     "name": "stdout",
     "output_type": "stream",
     "text": [
      "\r",
      "Reading package lists... 0%\r",
      "\r",
      "Reading package lists... 0%\r",
      "\r",
      "Reading package lists... 0%\r",
      "\r",
      "Reading package lists... 8%\r",
      "\r",
      "Reading package lists... 8%\r",
      "\r",
      "Reading package lists... 8%\r",
      "\r",
      "Reading package lists... 8%\r",
      "\r",
      "Reading package lists... 80%\r",
      "\r",
      "Reading package lists... 80%\r",
      "\r",
      "Reading package lists... 81%\r",
      "\r",
      "Reading package lists... 81%\r",
      "\r",
      "Reading package lists... 81%\r",
      "\r",
      "Reading package lists... 86%\r",
      "\r",
      "Reading package lists... 86%\r",
      "\r",
      "Reading package lists... 86%\r",
      "\r",
      "Reading package lists... 86%\r",
      "\r",
      "Reading package lists... 94%\r",
      "\r",
      "Reading package lists... 94%\r",
      "\r",
      "Reading package lists... 94%\r",
      "\r",
      "Reading package lists... 94%\r",
      "\r",
      "Reading package lists... 94%\r",
      "\r",
      "Reading package lists... 94%\r",
      "\r",
      "Reading package lists... 96%\r",
      "\r",
      "Reading package lists... 96%\r",
      "\r",
      "Reading package lists... 97%\r",
      "\r",
      "Reading package lists... 97%\r",
      "\r",
      "Reading package lists... 97%\r",
      "\r",
      "Reading package lists... 97%\r",
      "\r",
      "Reading package lists... 97%\r",
      "\r",
      "Reading package lists... 97%\r",
      "\r",
      "Reading package lists... 98%\r",
      "\r",
      "Reading package lists... 98%\r",
      "\r",
      "Reading package lists... 98%\r",
      "\r",
      "Reading package lists... 98%\r",
      "\r",
      "Reading package lists... Done\r\n",
      "\r",
      "Building dependency tree... 0%\r",
      "\r",
      "Building dependency tree... 0%\r",
      "\r",
      "Building dependency tree... 50%\r",
      "\r",
      "Building dependency tree... 50%\r",
      "\r",
      "Building dependency tree       \r\n",
      "\r",
      "Reading state information... 0%\r",
      "\r",
      "Reading state information... 0%\r",
      "\r",
      "Reading state information... Done\r\n",
      "swig is already the newest version (3.0.12-1).\n",
      "0 upgraded, 0 newly installed, 0 to remove and 12 not upgraded.\n",
      "Collecting box2d\n",
      "\u001b[?25l  Downloading https://files.pythonhosted.org/packages/cc/7b/ddb96fea1fa5b24f8929714ef483f64c33e9649e7aae066e5f5023ea426a/Box2D-2.3.2.tar.gz (427kB)\n",
      "\u001b[K    100% |████████████████████████████████| 430kB 8.2MB/s \n",
      "\u001b[?25hCollecting box2d-kengz\n",
      "\u001b[?25l  Downloading https://files.pythonhosted.org/packages/81/20/51d6c0c87f7642efb709c518fb0ca8e5eab068259588552c41da5926ae27/Box2D-kengz-2.3.3.tar.gz (425kB)\n",
      "\u001b[K    100% |████████████████████████████████| 430kB 23.4MB/s \n",
      "\u001b[?25hBuilding wheels for collected packages: box2d, box2d-kengz\n",
      "  Running setup.py bdist_wheel for box2d ... \u001b[?25l-\b \b\\\b \b|\b \b/\b \b-\b \b\\\b \b|\b \b/\b \b-\b \b\\\b \b|\b \b/\b \b-\b \b\\\b \b|\b \b/\b \b-\b \b\\\b \b|\b \b/\b \b-\b \b\\\b \b|\b \b/\b \b-\b \b\\\b \b|\b \b/\b \b-\b \b\\\b \b|\b \b/\b \b-\b \b\\\b \b|\b \b/\b \b-\b \b\\\b \b|\b \b/\b \b-\b \b\\\b \b|\b \b/\b \b-\b \b\\\b \b|\b \b/\b \b-\b \b\\\b \b|\b \b/\b \b-\b \b\\\b \b|\b \b/\b \b-\b \bdone\n",
      "\u001b[?25h  Stored in directory: /root/.cache/pip/wheels/35/09/fd/054e73da7184a08071ed889bf45772719c7bb6d2dd13f166a1\n",
      "  Running setup.py bdist_wheel for box2d-kengz ... \u001b[?25l-\b \b\\\b \b|\b \b/\b \b-\b \b\\\b \b|\b \b/\b \b-\b \b\\\b \b|\b \b/\b \b-\b \b\\\b \b|\b \b/\b \b-\b \b\\\b \b|\b \b/\b \b-\b \b\\\b \b|\b \b/\b \b-\b \b\\\b \b|\b \b/\b \b-\b \b\\\b \b|\b \b/\b \b-\b \b\\\b \b|\b \b/\b \b-\b \b\\\b \b|\b \b/\b \b-\b \b\\\b \b|\b \b/\b \b-\b \b\\\b \b|\b \b/\b \b-\b \b\\\b \b|\b \b/\b \b-\b \b\\\b \b|\b \b/\b \b-\b \b\\\b \bdone\n",
      "\u001b[?25h  Stored in directory: /root/.cache/pip/wheels/75/ae/e5/8bc678d262caad94659c199c540550e59d03dd3bd3684d4f1a\n",
      "Successfully built box2d box2d-kengz\n",
      "Installing collected packages: box2d, box2d-kengz\n",
      "Successfully installed box2d-2.3.2 box2d-kengz-2.3.3\n"
     ]
    }
   ],
   "source": [
    "!apt-get install swig\n",
    "!pip install box2d box2d-kengz"
   ]
  },
  {
   "cell_type": "code",
   "execution_count": 0,
   "metadata": {
    "colab": {},
    "colab_type": "code",
    "id": "ghpGc5CGZ72H"
   },
   "outputs": [],
   "source": [
    "# Start virtual display\n",
    "from pyvirtualdisplay import Display\n",
    "display = Display(visible=0, size=(1024, 768))\n",
    "display.start()\n",
    "import os\n",
    "os.environ[\"DISPLAY\"] = \":\" + str(display.display) + \".\" + str(display.screen)"
   ]
  },
  {
   "cell_type": "code",
   "execution_count": 0,
   "metadata": {
    "colab": {
     "base_uri": "https://localhost:8080/",
     "height": 193
    },
    "colab_type": "code",
    "id": "oChzxJESaCER",
    "outputId": "6cb85e67-9d4c-4b84-a77f-1f181835e351"
   },
   "outputs": [
    {
     "name": "stdout",
     "output_type": "stream",
     "text": [
      "Collecting pybullet\n",
      "\u001b[?25l  Downloading https://files.pythonhosted.org/packages/6c/f1/57a309de4b28bacf8349c9215db44abd5bdd795609a57a30c88825c30cce/pybullet-2.4.1.tar.gz (27.6MB)\n",
      "\u001b[K    100% |████████████████████████████████| 27.6MB 1.5MB/s \n",
      "\u001b[?25hBuilding wheels for collected packages: pybullet\n",
      "  Running setup.py bdist_wheel for pybullet ... \u001b[?25l-\b \b\\\b \b|\b \b/\b \b-\b \b\\\b \b|\b \b/\b \b-\b \b\\\b \b|\b \b/\b \b-\b \b\\\b \b|\b \b/\b \b-\b \b\\\b \b|\b \b/\b \b-\b \b\\\b \b|\b \b/\b \b-\b \b\\\b \b|\b \b/\b \b-\b \b\\\b \b|\b \b/\b \b-\b \b\\\b \b|\b \b/\b \b-\b \b\\\b \b|\b \b/\b \b-\b \b\\\b \b|\b \b/\b \b-\b \b\\\b \b|\b \b/\b \b-\b \b\\\b \b|\b \b/\b \b-\b \b\\\b \b|\b \b/\b \b-\b \b\\\b \b|\b \b/\b \b-\b \b\\\b \b|\b \b/\b \b-\b \b\\\b \b|\b \b/\b \b-\b \b\\\b \b|\b \b/\b \b-\b \b\\\b \b|\b \b/\b \b-\b \b\\\b \b|\b \b/\b \b-\b \b\\\b \b|\b \b/\b \b-\b \b\\\b \b|\b \b/\b \b-\b \b\\\b \b|\b \b/\b \b-\b \b\\\b \b|\b \b/\b \b-\b \b\\\b \b|\b \b/\b \b-\b \b\\\b \b|\b \b/\b \b-\b \b\\\b \b|\b \b/\b \b-\b \b\\\b \b|\b \b/\b \b-\b \b\\\b \b|\b \b/\b \b-\b \b\\\b \b|\b \b/\b \b-\b \b\\\b \b|\b \b/\b \b-\b \b\\\b \b|\b \b/\b \b-\b \b\\\b \b|\b \b/\b \b-\b \b\\\b \b|\b \b/\b \b-\b \b\\\b \b|\b \b/\b \b-\b \b\\\b \b|\b \b/\b \b-\b \b\\\b \b|\b \b/\b \b-\b \b\\\b \b|\b \b/\b \b-\b \b\\\b \b|\b \b/\b \b-\b \b\\\b \b|\b \b/\b \b-\b \b\\\b \b|\b \b/\b \b-\b \b\\\b \b|\b \b/\b \b-\b \b\\\b \b|\b \b/\b \b-\b \b\\\b \b|\b \b/\b \b-\b \b\\\b \b|\b \b/\b \b-\b \b\\\b \b|\b \b/\b \b-\b \b\\\b \b|\b \b/\b \b-\b \b\\\b \b|\b \b/\b \b-\b \b\\\b \b|\b \b/\b \b-\b \b\\\b \b|\b \b/\b \b-\b \b\\\b \b|\b \b/\b \b-\b \b\\\b \b|\b \b/\b \b-\b \b\\\b \b|\b \b/\b \b-\b \b\\\b \b|\b \b/\b \b-\b \b\\\b \b|\b \b/\b \b-\b \b\\\b \b|\b \b/\b \b-\b \b\\\b \b|\b \b/\b \b-\b \b\\\b \b|\b \b/\b \b-\b \b\\\b \b|\b \b/\b \b-\b \b\\\b \b|\b \b/\b \b-\b \b\\\b \b|\b \b/\b \b-\b \b\\\b \b|\b \b/\b \b-\b \b\\\b \b|\b \b/\b \b-\b \b\\\b \b|\b \b/\b \b-\b \b\\\b \b|\b \b/\b \b-\b \b\\\b \b|\b \b/\b \b-\b \b\\\b \b|\b \b/\b \b-\b \b\\\b \b|\b \b/\b \b-\b \b\\\b \b|\b \b/\b \b-\b \b\\\b \b|\b \b/\b \b-\b \b\\\b \b|\b \b/\b \b-\b \b\\\b \b|\b \b/\b \b-\b \b\\\b \b|\b \b/\b \b-\b \b\\\b \b|\b \b/\b \b-\b \b\\\b \b|\b \b/\b \b-\b \b\\\b \b|\b \b/\b \b-\b \b\\\b \b|\b \b/\b \b-\b \b\\\b \b|\b \b/\b \b-\b \b\\\b \b|\b \b/\b \b-\b \b\\\b \b|\b \b/\b \b-\b \b\\\b \b|\b \b/\b \b-\b \b\\\b \b|\b \b/\b \b-\b \b\\\b \b|\b \b/\b \b-\b \b\\\b \b|\b \b/\b \b-\b \b\\\b \b|\b \b/\b \b-\b \b\\\b \b|\b \b/\b \b-\b \b\\\b \b|\b \b/\b \b-\b \b\\\b \b|\b \b/\b \b-\b \b\\\b \b|\b \b/\b \b-\b \b\\\b \b|\b \b/\b \b-\b \b\\\b \b|\b \b/\b \b-\b \b\\\b \b|\b \b/\b \b-\b \b\\\b \b|\b \b/\b \b-\b \b\\\b \b|\b \b/\b \b-\b \b\\\b \b|\b \b/\b \b-\b \b\\\b \b|\b \b/\b \b-\b \b\\\b \b|\b \b/\b \b-\b \b\\\b \b|\b \b/\b \b-\b \b\\\b \b|\b \b/\b \b-\b \b\\\b \b|\b \b/\b \b-\b \b\\\b \b|\b \b/\b \b-\b \b\\\b \b|\b \b/\b \b-\b \b\\\b \b|\b \b/\b \b-\b \b\\\b \b|\b \b/\b \b-\b \b\\\b \b|\b \b/\b \b-\b \b\\\b \b|\b \b/\b \b-\b \b\\\b \b|\b \b/\b \b-\b \b\\\b \b|\b \b/\b \b-\b \b\\\b \b|\b \b/\b \b-\b \b\\\b \b|\b \b/\b \b-\b \b\\\b \b|\b \b/\b \b-\b \b\\\b \b|\b \b/\b \b-\b \b\\\b \b|\b \b/\b \b-\b \b\\\b \b|\b \b/\b \b-\b \b\\\b \b|\b \b/\b \b-\b \b\\\b \b|\b \b/\b \b-\b \b\\\b \b|\b \b/\b \b-\b \b\\\b \b|\b \b/\b \b-\b \b\\\b \b|\b \b/\b \bdone\n",
      "\u001b[?25h  Stored in directory: /root/.cache/pip/wheels/bd/8b/5d/fb683be2ed6600a7f4f6240092eed46d331201ef720f2d2175\n",
      "Successfully built pybullet\n",
      "Installing collected packages: pybullet\n",
      "Successfully installed pybullet-2.4.1\n"
     ]
    }
   ],
   "source": [
    "!pip install pybullet"
   ]
  },
  {
   "cell_type": "code",
   "execution_count": 0,
   "metadata": {
    "colab": {},
    "colab_type": "code",
    "id": "ebgx7fL2aDqh"
   },
   "outputs": [],
   "source": [
    "import os\n",
    "import numpy as np\n",
    "import gym\n",
    "from gym import wrappers"
   ]
  },
  {
   "cell_type": "code",
   "execution_count": 0,
   "metadata": {
    "colab": {
     "base_uri": "https://localhost:8080/",
     "height": 89
    },
    "colab_type": "code",
    "id": "znlWQ6IhaE5w",
    "outputId": "2061514e-dfe1-41fd-83b3-6b465b90a576"
   },
   "outputs": [
    {
     "name": "stdout",
     "output_type": "stream",
     "text": [
      "tcmalloc: large alloc 1073750016 bytes == 0x5bac8000 @  0x7f8a4a46a2a4 0x591a07 0x5b5d56 0x502e9a 0x506859 0x502209 0x502f3d 0x506859 0x504c28 0x502540 0x502f3d 0x506859 0x504c28 0x502540 0x502f3d 0x506859 0x504c28 0x502540 0x502f3d 0x507641 0x502209 0x502f3d 0x506859 0x504c28 0x502540 0x502f3d 0x507641 0x504c28 0x502540 0x502f3d 0x507641\n",
      "0.4.0\n",
      "True\n"
     ]
    }
   ],
   "source": [
    "from os import path\n",
    "from wheel.pep425tags import get_abbr_impl, get_impl_ver, get_abi_tag\n",
    "platform = '{}{}-{}'.format(get_abbr_impl(), get_impl_ver(), get_abi_tag())\n",
    "\n",
    "accelerator = 'cu80' if path.exists('/opt/bin/nvidia-smi') else 'cpu'\n",
    "\n",
    "!pip install -q http://download.pytorch.org/whl/{accelerator}/torch-0.4.0-{platform}-linux_x86_64.whl torchvision\n",
    "import torch\n",
    "print(torch.__version__)\n",
    "print(torch.cuda.is_available())"
   ]
  },
  {
   "cell_type": "code",
   "execution_count": 0,
   "metadata": {
    "colab": {},
    "colab_type": "code",
    "id": "3R3_PpCyaRIl"
   },
   "outputs": [],
   "source": [
    "\n",
    "\n",
    "import numpy as np\n",
    "\n",
    "import torch\n",
    "import torch.nn as nn\n",
    "import torch.nn.functional as F\n",
    "import torch.optim as optim\n",
    "from torch import FloatTensor, LongTensor\n",
    "\n",
    "import gym\n",
    "np.random.seed(42)\n",
    "\n",
    "import matplotlib.pyplot as plt\n",
    "\n",
    "%load_ext autoreload\n",
    "%autoreload 2\n",
    "%matplotlib inline\n",
    "\n"
   ]
  },
  {
   "cell_type": "code",
   "execution_count": 0,
   "metadata": {
    "colab": {
     "base_uri": "https://localhost:8080/",
     "height": 106
    },
    "colab_type": "code",
    "id": "UOPTg0KbaRnf",
    "outputId": "0073a5e7-2690-4ee3-d3df-7feacba550e8"
   },
   "outputs": [
    {
     "name": "stderr",
     "output_type": "stream",
     "text": [
      "/usr/local/lib/python3.6/dist-packages/gym/envs/registration.py:14: PkgResourcesDeprecationWarning: Parameters to load are deprecated.  Call .resolve and .require separately.\n",
      "  result = entry_point.load(False)\n"
     ]
    },
    {
     "data": {
      "text/plain": [
       "array([ 0.00729551,  1.4119292 ,  0.7389406 ,  0.04482597, -0.00844689,\n",
       "       -0.1673812 ,  0.        ,  0.        ], dtype=float32)"
      ]
     },
     "execution_count": 8,
     "metadata": {
      "tags": []
     },
     "output_type": "execute_result"
    }
   ],
   "source": [
    "env = gym.make('LunarLander-v2')\n",
    "env.reset()"
   ]
  },
  {
   "cell_type": "code",
   "execution_count": 0,
   "metadata": {
    "colab": {},
    "colab_type": "code",
    "id": "Q-uTx30XaS8J"
   },
   "outputs": [],
   "source": [
    "class Lander(nn.Module):\n",
    "    def __init__(self, env, num_env_actions, num_env_variables):\n",
    "        super().__init__()\n",
    "        self.env = env\n",
    "        self.num_env_actions = num_env_actions\n",
    "        self.num_env_variables = num_env_variables\n",
    "        self.memoryX = np.zeros(1)\n",
    "        self.memoryY = np.zeros(1)\n",
    "        self.criterion = nn.MSELoss()\n",
    "        self.optimizer = None\n",
    "        \n",
    "        self.net = Sequential(\n",
    "            nn.Linear(num_env_actions + num_env_variables, 512),\n",
    "            nn.Linear(512, 256), \n",
    "            nn.ReLU(),\n",
    "            nn.Linear(256, 256), \n",
    "            nn.ReLU(),\n",
    "            nn.Linear(256, 1)\n",
    "        )\n",
    "\n",
    "    def forward(self, inputs):\n",
    "        return self.net(x)\n",
    "    \n",
    "    def one_hot(self, action):\n",
    "        result = np.zeros(self.num_env_actions)\n",
    "        result[action] = 1\n",
    "        return result\n",
    "\n",
    "    def predict_total_reward(self, state, action):\n",
    "        state_action = np.concatenate((state, self.one_hot(action)), axis = 0)\n",
    "        total_reward = self.forward(FloatTensor(state_action.reshape(1, -1))).view(self.forward(FloatTensor(state_action.reshape(1, -1))).numel())\n",
    "        #print(\"rew= \" total_reward)\n",
    "        \n",
    "        return total_reward\n",
    "\n",
    "    def random_action(self):\n",
    "        return self.env.action_space.sample()\n",
    "\n",
    "    def normal_action(self, state):\n",
    "        possible_action = np.array([self.predict_total_reward(state, i) for i in range(self.num_env_actions)])\n",
    "        return np.argmax(possible_action)\n",
    "\n",
    "    def get_action(self, state, explore = 0.5, observe = False):\n",
    "        if observe:\n",
    "            return self.random_action()\n",
    "        prob = np.random.rand(1)\n",
    "        if prob > explore:\n",
    "            return self.random_action()\n",
    "        return self.normal_action(state)\n",
    "\n",
    "    def play_game(self, observe = False, explore = 0.5, gamma = 0.99, render = False):\n",
    "        gameX = np.zeros(shape=(1,num_env_variables+num_env_actions))\n",
    "        gameY = np.zeros(shape=(1,1))\n",
    "        state = self.env.reset()\n",
    "        done = False\n",
    "        step = 0\n",
    "        total_reward = 0\n",
    "        while not done:\n",
    "            action = self.get_action(state, explore, observe)\n",
    "            if render:\n",
    "                env.render()\n",
    "            state_action = np.concatenate((state, self.one_hot(action)), axis = 0)\n",
    "            state, reward, done, info = self.env.step(action)\n",
    "            total_reward += reward\n",
    "            \n",
    "            if step == 0:\n",
    "                gameX[0] = state_action\n",
    "                gameY[0] = np.array([reward])\n",
    "            else:\n",
    "#                 print(gameX.shape)\n",
    "                gameX = np.vstack((gameX, state_action))\n",
    "                gameY = np.vstack((gameY, np.array([reward])))\n",
    "#                 print(gameX.shape)\n",
    "#                 print('gameX', gameX)\n",
    "            step += 1\n",
    "        for i in range(0,gameY.shape[0]):\n",
    "            if i > 0:\n",
    "                gameY[(gameY.shape[0]-1)-i][0] = gameY[(gameY.shape[0]-1)-i][0] + gamma * gameY[(gameY.shape[0]-1) - i + 1][0]\n",
    "        print()\n",
    "        return np.array(gameX), np.array(gameY), total_reward\n",
    "    \n",
    "    def update_memory(self, gameX, gameY):\n",
    "        if self.memoryX.shape[0] == 1:\n",
    "            self.memoryX = gameX\n",
    "            self.memoryY = gameY\n",
    "        else:\n",
    "            self.memoryX = np.concatenate((self.memoryX, gameX), axis=0)\n",
    "            self.memoryY = np.concatenate((self.memoryY, gameY), axis=0)\n",
    "        max_memory = 10000\n",
    "        if len(self.memoryX > max_memory):\n",
    "            self.memoryX = self.memoryX[-max_memory:]\n",
    "            self.memoryY = self.memoryY[-max_memory:]\n",
    "            \n",
    "    def train(self):\n",
    "        if self.optimizer is None:\n",
    "            self.optimizer = optim.Adam(self.parameters(), lr=1e-5)\n",
    "        with torch.autograd.set_grad_enabled(True):\n",
    "            for i in range(12):\n",
    "                batch_ids = np.random.choice(len(self.memoryX), 512)\n",
    "                batch = self.memoryX[batch_ids]\n",
    "                target = self.memoryY[batch_ids]\n",
    "                prediction = self.forward(FloatTensor(batch))\n",
    "                loss = self.criterion(prediction, FloatTensor(target))\n",
    "                loss.backward()\n",
    "                self.optimizer.step()\n",
    "                self.optimizer.zero_grad()\n",
    "            \n",
    "    \n",
    "    def train_model(self, steps, observe=False, explore=0.5, gamma=0.99, render=False):\n",
    "        for i in range(steps):\n",
    "            gameX, gameY, _ = self.play_game(observe, explore, gamma, render)\n",
    "            self.update_memory(gameX, gameY)\n",
    "            if not observe:\n",
    "                self.train()"
   ]
  },
  {
   "cell_type": "code",
   "execution_count": 0,
   "metadata": {
    "colab": {},
    "colab_type": "code",
    "id": "8uZ4efcBaVJR"
   },
   "outputs": [],
   "source": [
    "num_env_variables = 8\n",
    "num_env_actions = 4\n",
    "model = Lander(env, num_env_actions, num_env_variables)"
   ]
  },
  {
   "cell_type": "code",
   "execution_count": 0,
   "metadata": {
    "colab": {},
    "colab_type": "code",
    "id": "99ENdvLUnbaO"
   },
   "outputs": [],
   "source": [
    "model.train_model(2500 observe=True)\n",
    "model.train_model(3000, explore = 0.2, render=False, gamma=0.99)\n",
    "model.train_model(5000, explore = 0.5, render=False, gamma=0.99) # sleeeeeeeeep\n",
    "model.train_model(2000, explore = 0.9, render=False, gamma=0.99) "
   ]
  },
  {
   "cell_type": "code",
   "execution_count": 0,
   "metadata": {
    "colab": {
     "base_uri": "https://localhost:8080/",
     "height": 372
    },
    "colab_type": "code",
    "id": "QmnQCD6kq4iD",
    "outputId": "11c55e8b-29d0-4528-ee32-dfb8a602be01"
   },
   "outputs": [
    {
     "name": "stdout",
     "output_type": "stream",
     "text": [
      "amount of iter: 100\n",
      "mean reward: 230.21175507107455\n",
      "Successes:  100\n"
     ]
    },
    {
     "data": {
      "image/png": "[encoded data removed]",
      "text/plain": [
       "<matplotlib.figure.Figure at 0x7efc07b53940>"
      ]
     },
     "metadata": {
      "tags": []
     },
     "output_type": "display_data"
    }
   ],
   "source": [
    "\n",
    "rewards = []\n",
    "num_iters = 100\n",
    "for i in range(num_iters):\n",
    "    game_x, game_y, total = model.play_game(explore = 1, render = False)\n",
    "    rewards.append(total)\n",
    "plt.figure(figsize=(15,5))\n",
    "plt.plot(rewards)\n",
    "plt.grid()\n",
    "print(\"amount of iter:\",  num_iters)\n",
    "print('mean reward:', np.mean(rewards))\n",
    "\n",
    "print('Successes: ', str(np.sum([1 if item > 0 else 0 for item in rewards])))\n"
   ]
  },
  {
   "cell_type": "code",
   "execution_count": 0,
   "metadata": {
    "colab": {},
    "colab_type": "code",
    "id": "BUHKsARssz6d"
   },
   "outputs": [],
   "source": []
  }
 ],
 "metadata": {
  "accelerator": "GPU",
  "colab": {
   "collapsed_sections": [],
   "name": "Untitled2.ipynb",
   "provenance": [],
   "version": "0.3.2"
  },
  "kernelspec": {
   "display_name": "Python 3",
   "language": "python",
   "name": "python3"
  },
  "language_info": {
   "codemirror_mode": {
    "name": "ipython",
    "version": 3
   },
   "file_extension": ".py",
   "mimetype": "text/x-python",
   "name": "python",
   "nbconvert_exporter": "python",
   "pygments_lexer": "ipython3",
   "version": "3.6.5"
  }
 },
 "nbformat": 4,
 "nbformat_minor": 1
}
